{
 "cells": [
  {
   "cell_type": "markdown",
   "metadata": {},
   "source": [
    "#### 4.12.2021 - Bingo with a squid"
   ]
  },
  {
   "cell_type": "code",
   "execution_count": 210,
   "metadata": {},
   "outputs": [],
   "source": [
    "def find_full_none_row(lst: list[list]) -> bool:\n",
    "    for line in lst:\n",
    "        line_without_none = [item for item in line if type(item) != type(None)]\n",
    "        if len(line_without_none) == 0:\n",
    "            return True\n",
    "    return False\n",
    "\n",
    "\n",
    "def flatten_list(lst: list[list]) -> list:\n",
    "    return [item for sublist in lst for item in sublist]\n",
    "\n",
    "\n",
    "def sum_with_none(lst: list) -> int:\n",
    "    return sum(filter(lambda item: type(item) != type(None), lst))\n"
   ]
  },
  {
   "cell_type": "code",
   "execution_count": 220,
   "metadata": {},
   "outputs": [],
   "source": [
    "class Matrix:\n",
    "    content: list[list[int]] = []\n",
    "\n",
    "    def __init__(self, content: list[list[int]]):\n",
    "        self.content = content\n",
    "\n",
    "    def deleteItem(self, itemToDelete: int):\n",
    "        def remove_from_line(item):\n",
    "            return None if item == itemToDelete else item\n",
    "\n",
    "        def remove_from_matrix(lst):\n",
    "            return list(map(remove_from_line, lst))\n",
    "\n",
    "        self.content = list(map(remove_from_matrix, self.content))\n",
    "\n",
    "    def didWin(self) -> bool:\n",
    "        return find_full_none_row(self.content) or \\\n",
    "            find_full_none_row(zip(*self.content))\n",
    "\n",
    "    def sum(self):\n",
    "        return sum_with_none(flatten_list(self.content))\n",
    "\n",
    "    def __str__(self):\n",
    "        import pprint\n",
    "        return pprint.pformat(self.content)\n"
   ]
  },
  {
   "cell_type": "code",
   "execution_count": 221,
   "metadata": {},
   "outputs": [],
   "source": [
    "def build_board(board_text) -> Matrix:\n",
    "    board_content: list[list[int]] = []\n",
    "    for line in board_text.split('\\n'):\n",
    "        line_list = line.split()\n",
    "        board_content.append(\n",
    "            list(map(int, line_list))\n",
    "        )\n",
    "    return Matrix(board_content)\n",
    "\n",
    "\n",
    "def build_board_list(data) -> list[Matrix]:\n",
    "    boards: list[Matrix] = []\n",
    "    for board_text in data.strip().split('\\n\\n'):\n",
    "        boards.append(build_board(board_text))\n",
    "    return boards\n",
    "\n",
    "\n",
    "def play_board(board: Matrix, drawn_numbers: list[int]):\n",
    "    print(board)\n",
    "    for index, draw in enumerate(drawn_numbers):\n",
    "        board.deleteItem(draw)\n",
    "        if board.didWin():\n",
    "            return index, draw * board.sum()\n",
    "\n",
    "\n",
    "def play_all_boards(boards: list[Matrix],\n",
    "                    drawn_numbers: list[int]) -> list[(int, int, int)]:\n",
    "    win_data: list[(int, int, int)] = []\n",
    "    for board_index, board in enumerate(boards):\n",
    "        win_draw_index, final_score = play_board(board, drawn_numbers)\n",
    "        win_data.append((win_draw_index, board_index, final_score))\n",
    "    return sorted(win_data, key=lambda x: x[0])\n"
   ]
  },
  {
   "cell_type": "code",
   "execution_count": null,
   "metadata": {},
   "outputs": [],
   "source": [
    "with open('input_4/input.txt') as input_file:\n",
    "\n",
    "    drawn_numbers: list[int] = [int(n)\n",
    "                                for n in input_file.readline().strip().split(',')]\n",
    "    boards: list[Matrix] = build_board_list(input_file.read())\n",
    "\n",
    "    # Play the game\n",
    "    # Tuples of (win_draw_index, board_index, final_score)\n",
    "    win_data: list[(int, int, int)] = play_all_boards(boards, drawn_numbers)\n",
    "\n",
    "    print(\"Game scores:\")\n",
    "    print(\"First: Draw Index \",\n",
    "          win_data[0][0], \" Board Index \", win_data[0][1], \" Score \", win_data[0][2])\n",
    "    print(\"Last:  Draw Index \",\n",
    "          win_data[-1][0], \" Board Index \", win_data[-1][1], \" Score \", win_data[-1][2])\n"
   ]
  }
 ],
 "metadata": {
  "interpreter": {
   "hash": "f5918772c05318061d03cd22fdfa754713d014aeb4b23825b0fc62b50e42269d"
  },
  "kernelspec": {
   "display_name": "Python 3.10.0 64-bit",
   "language": "python",
   "name": "python3"
  },
  "language_info": {
   "codemirror_mode": {
    "name": "ipython",
    "version": 3
   },
   "file_extension": ".py",
   "mimetype": "text/x-python",
   "name": "python",
   "nbconvert_exporter": "python",
   "pygments_lexer": "ipython3",
   "version": "3.10.0"
  },
  "orig_nbformat": 4
 },
 "nbformat": 4,
 "nbformat_minor": 2
}
