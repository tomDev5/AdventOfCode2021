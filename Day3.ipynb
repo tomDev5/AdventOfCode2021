{
 "cells": [
  {
   "cell_type": "markdown",
   "metadata": {},
   "source": [
    "#### 3.12.2021 - ship diagnostics"
   ]
  },
  {
   "cell_type": "markdown",
   "metadata": {},
   "source": [
    "#### 3A"
   ]
  },
  {
   "cell_type": "code",
   "execution_count": null,
   "metadata": {},
   "outputs": [],
   "source": [
    "gamma_rate = \"\"\n",
    "epsilon_rate = \"\"\n",
    "\n",
    "data = []\n",
    "with open('input_3/input.txt') as input_file:\n",
    "    for line in input_file:\n",
    "        data.append(line.strip())\n",
    "\n",
    "    length = len(data[0])\n",
    "\n",
    "    for index in range(length):\n",
    "        selected_index = set(map(lambda member: int(member[index]), data))\n",
    "        most_common = max(selected_index, key=selected_index.count)\n",
    "        gamma_rate += str(most_common)\n",
    "        epsilon_rate += str(1 - most_common)\n",
    "    print(\"consumption: \", int(gamma_rate, 2) * int(epsilon_rate, 2))\n"
   ]
  },
  {
   "cell_type": "markdown",
   "metadata": {},
   "source": [
    "#### 3B"
   ]
  },
  {
   "cell_type": "code",
   "execution_count": 2,
   "metadata": {},
   "outputs": [],
   "source": [
    "def most_common_bit(char_list: list) -> int:\n",
    "    zeros = char_list.count('0')\n",
    "    ones = char_list.count('1')\n",
    "    return zeros <= ones  # Intended bias\n"
   ]
  },
  {
   "cell_type": "code",
   "execution_count": 3,
   "metadata": {},
   "outputs": [],
   "source": [
    "def oxygen_comparator(a, b): return a != b\n",
    "def co2_comparator(a, b): return a == b\n"
   ]
  },
  {
   "cell_type": "code",
   "execution_count": 4,
   "metadata": {},
   "outputs": [],
   "source": [
    "def get_gas_stats(work_list: list, word_length: int,\n",
    "                  delete_comparator) -> int:\n",
    "    for index in range(word_length):\n",
    "        index_tuple = list(zip(*work_list))[index]\n",
    "        common_bit = most_common_bit(index_tuple)\n",
    "\n",
    "        for member_index, member in list(enumerate(work_list))[::-1]:\n",
    "            current_bit = int(member[index])\n",
    "            if delete_comparator(current_bit, common_bit) and len(work_list) > 1:\n",
    "                del(work_list[member_index])\n",
    "\n",
    "    return int(work_list[0], 2)\n"
   ]
  },
  {
   "cell_type": "code",
   "execution_count": null,
   "metadata": {},
   "outputs": [],
   "source": [
    "\n",
    "data = []\n",
    "with open('input_3/input.txt') as input_file:\n",
    "    for line in input_file:\n",
    "        data.append(line.strip())\n",
    "length = len(data[0])\n",
    "\n",
    "oxygen_generator_rating = get_gas_stats(data.copy(), length,\n",
    "                                        oxygen_comparator)\n",
    "co2_scrubber_rating = get_gas_stats(data.copy(), length,\n",
    "                                    co2_comparator)\n",
    "\n",
    "print(\"oxygen generator rating: \", bin(oxygen_generator_rating))\n",
    "print(\"CO2 scrubber rating: \", bin(co2_scrubber_rating))\n",
    "print(\"life support rating: \", oxygen_generator_rating * co2_scrubber_rating)\n"
   ]
  }
 ],
 "metadata": {
  "interpreter": {
   "hash": "f5918772c05318061d03cd22fdfa754713d014aeb4b23825b0fc62b50e42269d"
  },
  "kernelspec": {
   "display_name": "Python 3.10.0 64-bit",
   "language": "python",
   "name": "python3"
  },
  "language_info": {
   "codemirror_mode": {
    "name": "ipython",
    "version": 3
   },
   "file_extension": ".py",
   "mimetype": "text/x-python",
   "name": "python",
   "nbconvert_exporter": "python",
   "pygments_lexer": "ipython3",
   "version": "3.10.0"
  },
  "orig_nbformat": 4
 },
 "nbformat": 4,
 "nbformat_minor": 2
}
