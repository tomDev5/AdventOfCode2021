{
 "cells": [
  {
   "cell_type": "markdown",
   "metadata": {},
   "source": [
    "#### 1.12.2021 - count increases in a series with a sliding window (window size 3)"
   ]
  },
  {
   "cell_type": "code",
   "execution_count": null,
   "metadata": {},
   "outputs": [],
   "source": [
    "def solve_first():\n",
    "    data = []\n",
    "    with open('input_1/input.txt') as input_file:\n",
    "        for line in input_file:\n",
    "            data.append(int(line.strip()))\n",
    "\n",
    "    slided_data = [sum(data[i:i + 3]) for i in range(0, len(data) - 2)]\n",
    "    increased = sum([tup[1] > tup[0]\n",
    "                    for tup in zip(slided_data, slided_data[1:])])\n",
    "\n",
    "    print(\"increased: \", increased)\n",
    "\n",
    "\n",
    "solve_first()\n"
   ]
  },
  {
   "cell_type": "markdown",
   "metadata": {},
   "source": [
    "#### 2.12.2021 - steering a ship"
   ]
  },
  {
   "cell_type": "code",
   "execution_count": null,
   "metadata": {},
   "outputs": [],
   "source": [
    "def solve_second():\n",
    "    aim = 0\n",
    "    horizontal = 0\n",
    "    depth = 0\n",
    "\n",
    "    with open('input_2/input.txt') as input_file:\n",
    "        for line in input_file:\n",
    "            command, value = line.split()\n",
    "            value = int(value)\n",
    "            match command:\n",
    "                case \"forward\":\n",
    "                    horizontal += value\n",
    "                    depth += aim * value\n",
    "                case \"up\":\n",
    "                    aim -= value\n",
    "                case \"down\":\n",
    "                    aim += value\n",
    "    print(\"position: \", horizontal * depth)\n",
    "\n",
    "\n",
    "solve_second()\n"
   ]
  },
  {
   "cell_type": "markdown",
   "metadata": {},
   "source": [
    "#### 3.12.2021 - ship diagnostics"
   ]
  },
  {
   "cell_type": "code",
   "execution_count": null,
   "metadata": {},
   "outputs": [],
   "source": [
    "def solve_third_A():\n",
    "    gamma_rate = \"\"\n",
    "    epsilon_rate = \"\"\n",
    "\n",
    "    data = []\n",
    "    with open('input_3/input.txt') as input_file:\n",
    "        for line in input_file:\n",
    "            data.append(line.strip())\n",
    "\n",
    "    length = len(data[0])\n",
    "\n",
    "    for index in range(length):\n",
    "        selected_index = list(map(lambda member: int(member[index]), data))\n",
    "        most_common = max(selected_index, key=selected_index.count)\n",
    "        gamma_rate += str(most_common)\n",
    "        epsilon_rate += str(1 - most_common)\n",
    "    print(\"consumption: \", int(gamma_rate, 2) * int(epsilon_rate, 2))\n",
    "\n",
    "\n",
    "solve_third_A()\n"
   ]
  },
  {
   "cell_type": "code",
   "execution_count": null,
   "metadata": {},
   "outputs": [],
   "source": [
    "def solve_third_B():\n",
    "    def most_common_bit(char_list: list):\n",
    "        zeros = char_list.count(0)\n",
    "        ones = char_list.count(1)\n",
    "        if zeros > ones:\n",
    "            return 0\n",
    "        else:\n",
    "            return 1  # Intended bias\n",
    "\n",
    "    def delete_indexes(lst: list, indexes: list):\n",
    "        for del_index in sorted(indexes, reverse=True):\n",
    "            if len(lst) > 1:\n",
    "                del lst[del_index]\n",
    "            else:\n",
    "                return\n",
    "\n",
    "    def get_gas_stats(work_list: list, word_length: int,\n",
    "                      keep_equal_to_common_char: bool):\n",
    "        for index in range(word_length):\n",
    "            selected_index = list(\n",
    "                map(lambda member: int(member[index]), work_list)\n",
    "            )\n",
    "            indexes_to_delete = []\n",
    "            for word_index, char_at_index in enumerate(selected_index):\n",
    "                if (char_at_index != most_common_bit(selected_index)) \\\n",
    "                        == keep_equal_to_common_char:\n",
    "                    indexes_to_delete.append(word_index)\n",
    "\n",
    "            delete_indexes(work_list, indexes_to_delete)\n",
    "        return work_list[0]\n",
    "\n",
    "    data = []\n",
    "    with open('input_3/input.txt') as input_file:\n",
    "        for line in input_file:\n",
    "            data.append(line.strip())\n",
    "    length = len(data[0])\n",
    "\n",
    "    oxy = get_gas_stats(data.copy(), length, keep_equal_to_common_char=True)\n",
    "    co2 = get_gas_stats(data.copy(), length, keep_equal_to_common_char=False)\n",
    "\n",
    "    print(\"oxygen generator rating: \", int(oxy, 2))\n",
    "    print(\"CO2 scrubber rating: \", int(co2, 2))\n",
    "    print(\"life support rating: \", int(oxy, 2) * int(co2, 2))\n",
    "\n",
    "\n",
    "solve_third_B()\n"
   ]
  }
 ],
 "metadata": {
  "interpreter": {
   "hash": "c5b322d1f5beaecfb28b050f61b5bc2c682da0c88a01138942a1439f934c1c07"
  },
  "kernelspec": {
   "display_name": "Python 3.9.6 64-bit",
   "language": "python",
   "name": "python3"
  },
  "language_info": {
   "codemirror_mode": {
    "name": "ipython",
    "version": 3
   },
   "file_extension": ".py",
   "mimetype": "text/x-python",
   "name": "python",
   "nbconvert_exporter": "python",
   "pygments_lexer": "ipython3",
   "version": "3.10.0"
  },
  "orig_nbformat": 4
 },
 "nbformat": 4,
 "nbformat_minor": 2
}
