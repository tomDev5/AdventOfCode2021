{
 "cells": [
  {
   "cell_type": "markdown",
   "metadata": {},
   "source": [
    "#### 1.12.2021 - count increases in a series with a sliding window (window size 3)"
   ]
  },
  {
   "cell_type": "code",
   "execution_count": null,
   "metadata": {},
   "outputs": [],
   "source": [
    "def solve_first():\n",
    "    data = []\n",
    "    with open('input_1/input.txt') as input_file:\n",
    "        for line in input_file:\n",
    "            data.append(int(line.strip()))\n",
    "\n",
    "    slided_data = [sum(data[i:i + 3]) for i in range(0, len(data) - 2)]\n",
    "    increased = sum([tup[1] > tup[0]\n",
    "                    for tup in zip(slided_data, slided_data[1:])])\n",
    "\n",
    "    print(\"increased: \", increased)\n",
    "\n",
    "\n",
    "solve_first()\n"
   ]
  },
  {
   "cell_type": "markdown",
   "metadata": {},
   "source": [
    "#### 2.12.2021 - steering a ship"
   ]
  },
  {
   "cell_type": "code",
   "execution_count": null,
   "metadata": {},
   "outputs": [],
   "source": [
    "def solve_second():\n",
    "    aim = 0\n",
    "    horizontal = 0\n",
    "    depth = 0\n",
    "\n",
    "    with open('input_2/input.txt') as input_file:\n",
    "        for line in input_file:\n",
    "            command, value = line.split()\n",
    "            value = int(value)\n",
    "            match command:\n",
    "                case \"forward\":\n",
    "                    horizontal += value\n",
    "                    depth += aim * value\n",
    "                case \"up\":\n",
    "                    aim -= value\n",
    "                case \"down\":\n",
    "                    aim += value\n",
    "    print(\"position: \", horizontal * depth)\n",
    "\n",
    "\n",
    "solve_second()\n"
   ]
  },
  {
   "cell_type": "markdown",
   "metadata": {},
   "source": [
    "#### 3.12.2021 - ship diagnostics"
   ]
  },
  {
   "cell_type": "code",
   "execution_count": null,
   "metadata": {},
   "outputs": [],
   "source": [
    "def solve_third_A():\n",
    "    gamma_rate = \"\"\n",
    "    epsilon_rate = \"\"\n",
    "\n",
    "    data = []\n",
    "    with open('input_3/input.txt') as input_file:\n",
    "        for line in input_file:\n",
    "            data.append(line.strip())\n",
    "\n",
    "    length = len(data[0])\n",
    "\n",
    "    for index in range(length):\n",
    "        selected_index = list(map(lambda member: int(member[index]), data))\n",
    "        most_common = max(selected_index, key=selected_index.count)\n",
    "        gamma_rate += str(most_common)\n",
    "        epsilon_rate += str(1 - most_common)\n",
    "    print(\"consumption: \", int(gamma_rate, 2) * int(epsilon_rate, 2))\n",
    "\n",
    "\n",
    "solve_third_A()\n"
   ]
  },
  {
   "cell_type": "code",
   "execution_count": null,
   "metadata": {},
   "outputs": [],
   "source": [
    "def solve_third_B():\n",
    "    def most_common_bit(char_list: list) -> int:\n",
    "        zeros = char_list.count('0')\n",
    "        ones = char_list.count('1')\n",
    "        return zeros <= ones  # Intended bias\n",
    "\n",
    "    def oxygen_comparator(a, b): return a != b\n",
    "    def co2_comparator(a, b): return a == b\n",
    "\n",
    "    def get_gas_stats(work_list: list, word_length: int,\n",
    "                      delete_comparator) -> int:\n",
    "        for index in range(word_length):\n",
    "            index_tuple = list(zip(*work_list))[index]\n",
    "            common_bit = most_common_bit(index_tuple)\n",
    "\n",
    "            for member_index, member in list(enumerate(work_list))[::-1]:\n",
    "                current_bit = int(member[index])\n",
    "                if delete_comparator(current_bit, common_bit) and len(work_list) > 1:\n",
    "                    del(work_list[member_index])\n",
    "\n",
    "        return int(work_list[0], 2)\n",
    "\n",
    "    data = []\n",
    "    with open('input_3/input_test.txt') as input_file:\n",
    "        for line in input_file:\n",
    "            data.append(line.strip())\n",
    "    length = len(data[0])\n",
    "\n",
    "    oxygen_generator_rating = get_gas_stats(data.copy(), length,\n",
    "                                            oxygen_comparator)\n",
    "    co2_scrubber_rating = get_gas_stats(data.copy(), length,\n",
    "                                        co2_comparator)\n",
    "\n",
    "    print(\"oxygen generator rating: \", bin(oxygen_generator_rating))\n",
    "    print(\"CO2 scrubber rating: \", bin(co2_scrubber_rating))\n",
    "    print(\"life support rating: \", oxygen_generator_rating * co2_scrubber_rating)\n",
    "\n",
    "\n",
    "solve_third_B()\n"
   ]
  }
 ],
 "metadata": {
  "interpreter": {
   "hash": "c5b322d1f5beaecfb28b050f61b5bc2c682da0c88a01138942a1439f934c1c07"
  },
  "kernelspec": {
   "display_name": "Python 3.9.6 64-bit",
   "language": "python",
   "name": "python3"
  },
  "language_info": {
   "codemirror_mode": {
    "name": "ipython",
    "version": 3
   },
   "file_extension": ".py",
   "mimetype": "text/x-python",
   "name": "python",
   "nbconvert_exporter": "python",
   "pygments_lexer": "ipython3",
   "version": "3.10.0"
  },
  "orig_nbformat": 4
 },
 "nbformat": 4,
 "nbformat_minor": 2
}
