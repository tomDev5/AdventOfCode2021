{
 "cells": [
  {
   "cell_type": "markdown",
   "metadata": {},
   "source": [
    "#### 1.12.2021 - count increases in a series with a sliding window (window size 3)"
   ]
  },
  {
   "cell_type": "code",
   "execution_count": 3,
   "metadata": {},
   "outputs": [],
   "source": [
    "def sliding_window_sum(data: list, window_size: int):\n",
    "    return [sum(data[i:i + window_size])\n",
    "            for i in range(0, len(data) - (window_size - 1))]\n"
   ]
  },
  {
   "cell_type": "code",
   "execution_count": 7,
   "metadata": {},
   "outputs": [],
   "source": [
    "def get_number_of_increased(data: list):\n",
    "    return sum([tup[1] > tup[0]\n",
    "                for tup in zip(data, data[1:])])\n"
   ]
  },
  {
   "cell_type": "code",
   "execution_count": null,
   "metadata": {},
   "outputs": [],
   "source": [
    "data = []\n",
    "with open('input_1/input.txt') as input_file:\n",
    "    for line in input_file:\n",
    "        data.append(int(line.strip()))\n",
    "\n",
    "    slided_data = sliding_window_sum(data, 3)\n",
    "    increased = get_number_of_increased(slided_data)\n",
    "\n",
    "print(\"increased: \", increased)\n"
   ]
  }
 ],
 "metadata": {
  "interpreter": {
   "hash": "f5918772c05318061d03cd22fdfa754713d014aeb4b23825b0fc62b50e42269d"
  },
  "kernelspec": {
   "display_name": "Python 3.10.0 64-bit",
   "language": "python",
   "name": "python3"
  },
  "language_info": {
   "codemirror_mode": {
    "name": "ipython",
    "version": 3
   },
   "file_extension": ".py",
   "mimetype": "text/x-python",
   "name": "python",
   "nbconvert_exporter": "python",
   "pygments_lexer": "ipython3",
   "version": "3.10.0"
  },
  "orig_nbformat": 4
 },
 "nbformat": 4,
 "nbformat_minor": 2
}
