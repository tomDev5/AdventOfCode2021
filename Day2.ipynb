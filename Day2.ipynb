{
 "cells": [
  {
   "cell_type": "markdown",
   "metadata": {},
   "source": [
    "#### 2.12.2021 - steering a ship"
   ]
  },
  {
   "cell_type": "code",
   "execution_count": null,
   "metadata": {},
   "outputs": [],
   "source": [
    "def solve_second():\n",
    "    aim = 0\n",
    "    horizontal = 0\n",
    "    depth = 0\n",
    "\n",
    "    with open('input_2/input.txt') as input_file:\n",
    "        for line in input_file:\n",
    "            command, value = line.split()\n",
    "            value = int(value)\n",
    "            match command:\n",
    "                case \"forward\":\n",
    "                    horizontal += value\n",
    "                    depth += aim * value\n",
    "                case \"up\":\n",
    "                    aim -= value\n",
    "                case \"down\":\n",
    "                    aim += value\n",
    "    print(\"position: \", horizontal * depth)\n",
    "\n",
    "\n",
    "solve_second()\n"
   ]
  }
 ],
 "metadata": {
  "interpreter": {
   "hash": "f5918772c05318061d03cd22fdfa754713d014aeb4b23825b0fc62b50e42269d"
  },
  "kernelspec": {
   "display_name": "Python 3.10.0 64-bit",
   "language": "python",
   "name": "python3"
  },
  "language_info": {
   "codemirror_mode": {
    "name": "ipython",
    "version": 3
   },
   "file_extension": ".py",
   "mimetype": "text/x-python",
   "name": "python",
   "nbconvert_exporter": "python",
   "pygments_lexer": "ipython3",
   "version": "3.10.0"
  },
  "orig_nbformat": 4
 },
 "nbformat": 4,
 "nbformat_minor": 2
}
