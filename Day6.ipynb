{
 "cells": [
  {
   "cell_type": "markdown",
   "metadata": {},
   "source": [
    "#### Day 6 - Lanternfish"
   ]
  },
  {
   "cell_type": "code",
   "execution_count": null,
   "metadata": {},
   "outputs": [],
   "source": [
    "def cache(func):\n",
    "    def wrapper(*args, **kwargs):\n",
    "        key = (args, tuple(kwargs.items()))\n",
    "        if key not in cache:\n",
    "            cache[key] = cc = func(*args, **kwargs)\n",
    "            return cc\n",
    "        return cache[key]\n",
    "    cache = {}\n",
    "    return wrapper\n"
   ]
  },
  {
   "cell_type": "code",
   "execution_count": null,
   "metadata": {},
   "outputs": [],
   "source": [
    "@cache\n",
    "def how_many_spawned(fish: int, number_of_turns: int) -> int:\n",
    "    if number_of_turns == 0:\n",
    "        return 1\n",
    "    if fish > 0:\n",
    "        return how_many_spawned(fish - 1, number_of_turns - 1)\n",
    "    elif fish == 0:\n",
    "        return how_many_spawned(6, number_of_turns - 1) + how_many_spawned(8, number_of_turns - 1)\n"
   ]
  },
  {
   "cell_type": "code",
   "execution_count": null,
   "metadata": {},
   "outputs": [],
   "source": [
    "def mutate_school(school: list[int], number_of_turns: int) -> int:\n",
    "    return sum(map(lambda fish: how_many_spawned(fish, number_of_turns), school))\n"
   ]
  },
  {
   "cell_type": "code",
   "execution_count": null,
   "metadata": {},
   "outputs": [],
   "source": [
    "with open('input_6/input.txt') as input_file:\n",
    "    school: list[int] = [int(fish)\n",
    "                         for fish in input_file.readline().strip().split(',')]\n",
    "\n",
    "    number_of_turns = 256\n",
    "\n",
    "    print(\"Number of lanternfish?\", mutate_school(school, number_of_turns))\n"
   ]
  }
 ],
 "metadata": {
  "interpreter": {
   "hash": "f5918772c05318061d03cd22fdfa754713d014aeb4b23825b0fc62b50e42269d"
  },
  "kernelspec": {
   "display_name": "Python 3.10.0 64-bit",
   "language": "python",
   "name": "python3"
  },
  "language_info": {
   "codemirror_mode": {
    "name": "ipython",
    "version": 3
   },
   "file_extension": ".py",
   "mimetype": "text/x-python",
   "name": "python",
   "nbconvert_exporter": "python",
   "pygments_lexer": "ipython3",
   "version": "3.10.0"
  },
  "orig_nbformat": 4
 },
 "nbformat": 4,
 "nbformat_minor": 2
}
