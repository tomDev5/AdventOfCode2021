{
 "cells": [
  {
   "cell_type": "markdown",
   "metadata": {},
   "source": [
    "#### 5.12.2021 - Hydrothermal Venture"
   ]
  },
  {
   "cell_type": "markdown",
   "metadata": {},
   "source": [
    "#### Part 1"
   ]
  },
  {
   "cell_type": "code",
   "execution_count": 198,
   "metadata": {},
   "outputs": [],
   "source": [
    "class Point:\n",
    "    x: int\n",
    "    y: int\n",
    "\n",
    "    def __init__(self, x, y):\n",
    "        self.x, self.y = int(x), int(y)\n",
    "\n",
    "    def getX(self):\n",
    "        return self.x\n",
    "\n",
    "    def getY(self):\n",
    "        return self.y\n",
    "\n",
    "    def __str__(self):\n",
    "        return (self.x, self.y).__str()\n",
    "\n",
    "    def __repr__(self):\n",
    "        return (self.x, self.y).__repr__()\n"
   ]
  },
  {
   "cell_type": "code",
   "execution_count": 199,
   "metadata": {},
   "outputs": [],
   "source": [
    "class Vent:\n",
    "    start: Point\n",
    "    end: Point\n",
    "\n",
    "    def __init__(self, start: Point, end: Point):\n",
    "        self.start, self.end = start, end\n",
    "\n",
    "    def isDiagnoal(self) -> bool:\n",
    "        return not self.isHorizontal() and not self.isVertical()\n",
    "\n",
    "    def isHorizontal(self) -> bool:\n",
    "        return self.start.getY() == self.end.getY()\n",
    "\n",
    "    def isVertical(self) -> bool:\n",
    "        return self.start.getX() == self.end.getX()\n",
    "\n",
    "    def getStart(self):\n",
    "        return self.start\n",
    "\n",
    "    def getEnd(self):\n",
    "        return self.end\n",
    "\n",
    "    def getMaxX(self):\n",
    "        return max(self.start.getX(), self.end.getX())\n",
    "\n",
    "    def getMaxY(self):\n",
    "        return max(self.start.getY(), self.end.getY())\n"
   ]
  },
  {
   "cell_type": "code",
   "execution_count": 200,
   "metadata": {},
   "outputs": [],
   "source": [
    "class VentSystem:\n",
    "    vents: list[Vent]\n",
    "    row_size: int\n",
    "    col_size: int\n",
    "\n",
    "    def __init__(self):\n",
    "        self.vents = []\n",
    "        self.row_size = 0\n",
    "        self.col_size = 0\n",
    "\n",
    "    def append(self, vent: Vent):\n",
    "        self.vents.append(vent)\n",
    "        self.row_size = max(self.row_size, vent.getMaxX() + 1)\n",
    "        self.col_size = max(self.col_size, vent.getMaxY() + 1)\n",
    "\n",
    "    def append_str(self, vent_string: str):\n",
    "        self.append(\n",
    "            Vent(\n",
    "                *map(lambda point_string: Point(*point_string.strip().split(',')),\n",
    "                     vent_string.split('->'))\n",
    "            )\n",
    "        )\n",
    "\n",
    "    def generateMap(self) -> list[list[int]]:\n",
    "        world: list[list[int]] = [[0] * self.getRowSize()\n",
    "                                  for _ in range(self.getColSize())]\n",
    "\n",
    "        def bidirectional_range(a, b):\n",
    "            return range(a, b + 1, 1) if a <= b else range(a, b - 1, -1)\n",
    "\n",
    "        for vent in self.getHorizontal():\n",
    "            for x in bidirectional_range(vent.getStart().getX(), vent.getEnd().getX()):\n",
    "                world[vent.getStart().getY()][x] += 1\n",
    "\n",
    "        for vent in self.getVertical():\n",
    "            for y in bidirectional_range(vent.getStart().getY(), vent.getEnd().getY()):\n",
    "                world[y][vent.getStart().getX()] += 1\n",
    "\n",
    "        for vent in self.getDiagonal():\n",
    "            for x, y in zip(bidirectional_range(vent.getStart().getX(), vent.getEnd().getX()),\n",
    "                            bidirectional_range(vent.getStart().getY(), vent.getEnd().getY())):\n",
    "                world[y][x] += 1\n",
    "        return world\n",
    "\n",
    "    def getRowSize(self):\n",
    "        return self.row_size\n",
    "\n",
    "    def getColSize(self):\n",
    "        return self.col_size\n",
    "\n",
    "    def getHorizontal(self):\n",
    "        return filter(lambda vent: vent.isHorizontal(), self.vents)\n",
    "\n",
    "    def getVertical(self):\n",
    "        return filter(lambda vent: vent.isVertical(), self.vents)\n",
    "\n",
    "    def getDiagonal(self):\n",
    "        return filter(lambda vent: vent.isDiagnoal(), self.vents)\n"
   ]
  },
  {
   "cell_type": "code",
   "execution_count": null,
   "metadata": {},
   "outputs": [],
   "source": [
    "with open('input_5/input.txt') as input_file:\n",
    "    vents: VentSystem = VentSystem()\n",
    "\n",
    "    data = input_file.readlines()\n",
    "    for vent_string in data:\n",
    "        vents.append_str(vent_string.strip())\n",
    "\n",
    "    world: list[list[int]] = vents.generateMap()\n",
    "\n",
    "    def flatten_list(lst: list[list]) -> list:\n",
    "        return [item for sublist in lst for item in sublist]\n",
    "\n",
    "    total = len([number for number in flatten_list(world) if number > 1])\n",
    "    print(\"Dangerous areas: \", total)\n"
   ]
  }
 ],
 "metadata": {
  "interpreter": {
   "hash": "f5918772c05318061d03cd22fdfa754713d014aeb4b23825b0fc62b50e42269d"
  },
  "kernelspec": {
   "display_name": "Python 3.10.0 64-bit",
   "language": "python",
   "name": "python3"
  },
  "language_info": {
   "codemirror_mode": {
    "name": "ipython",
    "version": 3
   },
   "file_extension": ".py",
   "mimetype": "text/x-python",
   "name": "python",
   "nbconvert_exporter": "python",
   "pygments_lexer": "ipython3",
   "version": "3.10.0"
  },
  "orig_nbformat": 4
 },
 "nbformat": 4,
 "nbformat_minor": 2
}
