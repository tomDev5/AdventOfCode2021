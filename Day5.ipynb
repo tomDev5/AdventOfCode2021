{
 "cells": [
  {
   "cell_type": "markdown",
   "metadata": {},
   "source": [
    "#### 5.12.2021 - Hydrothermal Venture"
   ]
  },
  {
   "cell_type": "markdown",
   "metadata": {},
   "source": [
    "#### Part 1"
   ]
  },
  {
   "cell_type": "code",
   "execution_count": null,
   "metadata": {},
   "outputs": [],
   "source": [
    "from dataclasses import dataclass\n",
    "\n",
    "\n",
    "@dataclass\n",
    "class Point:\n",
    "    x: int\n",
    "    y: int\n"
   ]
  },
  {
   "cell_type": "code",
   "execution_count": null,
   "metadata": {},
   "outputs": [],
   "source": [
    "@dataclass\n",
    "class Vent:\n",
    "    start: Point\n",
    "    end: Point\n",
    "\n",
    "    @property\n",
    "    def diagnoal(self) -> bool:\n",
    "        return not self.horizontal and not self.vertical\n",
    "\n",
    "    @property\n",
    "    def horizontal(self) -> bool:\n",
    "        return self.start.y == self.end.y\n",
    "\n",
    "    @property\n",
    "    def vertical(self) -> bool:\n",
    "        return self.start.x == self.end.x\n",
    "\n",
    "    @property\n",
    "    def max_x(self) -> int:\n",
    "        return max(self.start.x, self.end.x)\n",
    "\n",
    "    @property\n",
    "    def max_y(self) -> int:\n",
    "        return max(self.start.y, self.end.y)\n"
   ]
  },
  {
   "cell_type": "code",
   "execution_count": null,
   "metadata": {},
   "outputs": [],
   "source": [
    "class VentSystem:\n",
    "    def __init__(self):\n",
    "        self.vents = []\n",
    "        self.row_size = 0\n",
    "        self.col_size = 0\n",
    "\n",
    "    def append(self, vent: Vent):\n",
    "        self.vents.append(vent)\n",
    "        self.row_size = max(self.row_size, vent.max_x + 1)\n",
    "        self.col_size = max(self.col_size, vent.max_y + 1)\n",
    "\n",
    "    def append_str(self, vent_string: str):\n",
    "        self.append(\n",
    "            Vent(\n",
    "                *map(lambda point_string:\n",
    "                     Point(\n",
    "                         *map(int, point_string.strip().split(','))\n",
    "                     ),\n",
    "                     vent_string.split('->'))\n",
    "            )\n",
    "        )\n",
    "\n",
    "    def generate_map(self) -> list[list[int]]:\n",
    "        world: list[list[int]] = [[0] * self.row_size\n",
    "                                  for _ in range(self.col_size)]\n",
    "\n",
    "        def bidirectional_range(a, b):\n",
    "            return range(a, b + 1, 1) if a <= b else range(a, b - 1, -1)\n",
    "\n",
    "        for vent in self.horizontal:\n",
    "            for x in bidirectional_range(vent.start.x, vent.end.x):\n",
    "                world[vent.start.y][x] += 1\n",
    "\n",
    "        for vent in self.vertical:\n",
    "            for y in bidirectional_range(vent.start.y, vent.end.y):\n",
    "                world[y][vent.start.x] += 1\n",
    "\n",
    "        for vent in self.diagonal:\n",
    "            for x, y in zip(bidirectional_range(vent.start.x, vent.end.x),\n",
    "                            bidirectional_range(vent.start.y, vent.end.y)):\n",
    "                world[y][x] += 1\n",
    "        return world\n",
    "\n",
    "    @property\n",
    "    def horizontal(self):\n",
    "        return filter(lambda vent: vent.horizontal, self.vents)\n",
    "\n",
    "    @property\n",
    "    def vertical(self):\n",
    "        return filter(lambda vent: vent.vertical, self.vents)\n",
    "\n",
    "    @property\n",
    "    def diagonal(self):\n",
    "        return filter(lambda vent: vent.diagnoal, self.vents)\n"
   ]
  },
  {
   "cell_type": "code",
   "execution_count": null,
   "metadata": {},
   "outputs": [],
   "source": [
    "with open('input_5/input.txt') as input_file:\n",
    "    vents: VentSystem = VentSystem()\n",
    "\n",
    "    data = input_file.readlines()\n",
    "    for vent_string in data:\n",
    "        vents.append_str(vent_string.strip())\n",
    "\n",
    "    world: list[list[int]] = vents.generate_map()\n",
    "\n",
    "    def flatten_list(lst: list[list]) -> list:\n",
    "        return [item for sublist in lst for item in sublist]\n",
    "\n",
    "    total = len([number for number in flatten_list(world) if number > 1])\n",
    "    print(\"Dangerous areas: \", total)\n"
   ]
  }
 ],
 "metadata": {
  "interpreter": {
   "hash": "f5918772c05318061d03cd22fdfa754713d014aeb4b23825b0fc62b50e42269d"
  },
  "kernelspec": {
   "display_name": "Python 3.10.0 64-bit",
   "language": "python",
   "name": "python3"
  },
  "language_info": {
   "codemirror_mode": {
    "name": "ipython",
    "version": 3
   },
   "file_extension": ".py",
   "mimetype": "text/x-python",
   "name": "python",
   "nbconvert_exporter": "python",
   "pygments_lexer": "ipython3",
   "version": "3.10.0"
  },
  "orig_nbformat": 4
 },
 "nbformat": 4,
 "nbformat_minor": 2
}
