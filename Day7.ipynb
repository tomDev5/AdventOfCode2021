{
 "cells": [
  {
   "cell_type": "markdown",
   "metadata": {},
   "source": [
    "#### Day 7 - The Treachery of Whales"
   ]
  },
  {
   "cell_type": "markdown",
   "metadata": {},
   "source": [
    "##### Part 1"
   ]
  },
  {
   "cell_type": "code",
   "execution_count": null,
   "metadata": {},
   "outputs": [],
   "source": [
    "import statistics\n",
    "\n",
    "with open('input_7/input.txt') as input_file:\n",
    "    positions = [int(pos) for pos in\n",
    "                 input_file.readline().strip().split(',')]\n",
    "    median = statistics.median(positions)\n",
    "    position_distances = map(lambda pos: abs(pos - median),\n",
    "                             positions)\n",
    "    print(\"Move sum:\", int(max(position_distances)))\n"
   ]
  },
  {
   "cell_type": "markdown",
   "metadata": {},
   "source": [
    "##### Part 2"
   ]
  },
  {
   "cell_type": "code",
   "execution_count": null,
   "metadata": {},
   "outputs": [],
   "source": [
    "with open('input_7/input.txt') as input_file:\n",
    "    positions = [int(pos) for pos in\n",
    "                 input_file.readline().strip().split(',')]\n",
    "\n",
    "    options = []\n",
    "    for i in range(max(positions)):\n",
    "        sum = 0\n",
    "        for pos in positions:\n",
    "            position_diff = abs(pos - i)\n",
    "            sum += (position_diff / 2) * (position_diff + 1)\n",
    "        options.append(sum)\n",
    "\n",
    "    print(\"Move sum:\", int(min(options)))\n"
   ]
  }
 ],
 "metadata": {
  "interpreter": {
   "hash": "f5918772c05318061d03cd22fdfa754713d014aeb4b23825b0fc62b50e42269d"
  },
  "kernelspec": {
   "display_name": "Python 3.10.0 64-bit",
   "language": "python",
   "name": "python3"
  },
  "language_info": {
   "codemirror_mode": {
    "name": "ipython",
    "version": 3
   },
   "file_extension": ".py",
   "mimetype": "text/x-python",
   "name": "python",
   "nbconvert_exporter": "python",
   "pygments_lexer": "ipython3",
   "version": "3.10.0"
  },
  "orig_nbformat": 4
 },
 "nbformat": 4,
 "nbformat_minor": 2
}
